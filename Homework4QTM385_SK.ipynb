{
 "cells": [
  {
   "cell_type": "markdown",
   "metadata": {},
   "source": [
    "# QTM 385\n",
    "\n",
    "***\n",
    "\n",
    "## Homework 4\n",
    "\n",
    "Student: [2302860]"
   ]
  },
  {
   "cell_type": "markdown",
   "metadata": {},
   "source": [
    "In this homework, we will create an object called Student, that is useful for a professor to store information about a student."
   ]
  },
  {
   "cell_type": "markdown",
   "metadata": {},
   "source": [
    "\n",
    "***\n",
    "\n",
    "### Question 1\n",
    "\n",
    "Create a class Student, that has:\n",
    "\n",
    "0. Id number (5-digits integer, starting with 1)\n",
    "1. First Name (str)\n",
    "2. Last Name (str)\n",
    "3. Grades (list of floats)\n",
    "4. Credits (list of integers)\n",
    "5. Major (str)\n",
    "\n",
    "Provide a constructor for your class and create one fictitious student."
   ]
  },
  {
   "cell_type": "code",
   "execution_count": 1,
   "metadata": {},
   "outputs": [],
   "source": [
    "# Your answer here\n",
    "class Student:\n",
    "    \n",
    "    def __init__(self, num, fnam, lnam, gra, cre, maj):\n",
    "        self.id_number = num\n",
    "        self.first_name = fnam\n",
    "        self.last_name = lnam\n",
    "        self.grades = gra\n",
    "        self.credits = cre\n",
    "        self.major = maj\n",
    "\n",
    "        \n",
    "stu1 = Student(18792,'Shin','Kang',[92,94,95,92,91,90], [4,4,3,4,4,4], 'QSS with Biology')"
   ]
  },
  {
   "cell_type": "markdown",
   "metadata": {},
   "source": [
    "\n",
    "***\n",
    "\n",
    "### Question 2\n",
    "\n",
    "Create a method to nicely display the student when we type `print`. It should display, for example:\n",
    "\n",
    "```\n",
    "Student:\n",
    "    Id: 12345\n",
    "    Name: Mig, Umberto\n",
    "    Major: QSS\n",
    "```\n",
    "\n",
    "Create a method that, when a variable storing a student is typed in the console, displays:\n",
    "\n",
    "```\n",
    "Student(Mig, Umberto; 12345)\n",
    "```\n",
    "\n",
    "Provide some testing with a fictitious result of your choice."
   ]
  },
  {
   "cell_type": "code",
   "execution_count": 2,
   "metadata": {},
   "outputs": [],
   "source": [
    "# Your answer here\n",
    "class Student:    \n",
    "    \n",
    "    def __init__(self, num, fnam, lnam, gra, cre, maj):\n",
    "        self.id_number = num\n",
    "        self.first_name = fnam\n",
    "        self.last_name = lnam\n",
    "        self.grades = gra\n",
    "        self.credits = cre\n",
    "        self.major = maj\n",
    "\n",
    "    def __str__(self):\n",
    "        student_info = \"\"\"\n",
    "        Student:\n",
    "            ID: {id}\n",
    "            Name: {lname}, {fname}\n",
    "            Major: {major}\n",
    "        \"\"\".format(id = self.id_number, lname = self.last_name, fname = self.first_name, major = self.major)\n",
    "        return student_info\n",
    "    \n",
    "    def __repr__(self):\n",
    "        return \"Student({lnam1}, {fnam1}; {id1})\".format(lnam1 = self.last_name, fnam1 = self.first_name, id1 = self.id_number)"
   ]
  },
  {
   "cell_type": "code",
   "execution_count": 3,
   "metadata": {},
   "outputs": [],
   "source": [
    "stu1 = Student(18792,'Shin','Kang',[92,94,95,92,91,90], [4,4,3,4,4,4], 'QSS with Biology')"
   ]
  },
  {
   "cell_type": "code",
   "execution_count": 4,
   "metadata": {},
   "outputs": [
    {
     "name": "stdout",
     "output_type": "stream",
     "text": [
      "\n",
      "        Student:\n",
      "            ID: 18792\n",
      "            Name: Kang, Shin\n",
      "            Major: QSS with Biology\n",
      "        \n"
     ]
    }
   ],
   "source": [
    "print(stu1)"
   ]
  },
  {
   "cell_type": "code",
   "execution_count": 5,
   "metadata": {},
   "outputs": [
    {
     "data": {
      "text/plain": [
       "Student(Kang, Shin; 18792)"
      ]
     },
     "execution_count": 5,
     "metadata": {},
     "output_type": "execute_result"
    }
   ],
   "source": [
    "stu1"
   ]
  },
  {
   "cell_type": "markdown",
   "metadata": {},
   "source": [
    "\n",
    "***\n",
    "\n",
    "### Question 3\n",
    "\n",
    "Implement class methods for:\n",
    "\n",
    "1. Check if the id number is valid (remember: 5 digits, starting with number one)\n",
    "2. Check if the grades list has the same length as the credits list. The idea is that every grade corresponds to a course that gave the student a certain amount of credits.\n",
    "3. Append grade and credit: given a grade, and credits attached to the grade, append both to each respective place.\n",
    "\n",
    "Test your function with a toy student of your choice."
   ]
  },
  {
   "cell_type": "code",
   "execution_count": 6,
   "metadata": {},
   "outputs": [],
   "source": [
    "# Your answer here\n",
    "class Student:    \n",
    "    \n",
    "    def __init__(self, num, fnam, lnam, gra, cre, maj):\n",
    "        self.id_number = num\n",
    "        self.first_name = fnam\n",
    "        self.last_name = lnam\n",
    "        self.grades = gra\n",
    "        self.credits = cre\n",
    "        self.major = maj\n",
    "        \n",
    "    def id_check(self):\n",
    "        if self.id_number >= 10000 and self.id_number < 20000:\n",
    "            return 'Yes, it is a valid ID number!'\n",
    "        else:\n",
    "            return 'No, it is an invalid  ID number!'\n",
    "        \n",
    "    def __eq__(self):\n",
    "        gr = len(self.grades)\n",
    "        cr = len(self.credits)\n",
    "        return gr == cr\n",
    "    \n",
    "    def append_grades_credits(self, gr, cre):\n",
    "        self.grades.append(gr)\n",
    "        self.credits.append(cre)\n",
    "        print('New lists of grades for ' + self.first_name + ' ' + self.last_name + ' are ' + str(self.grades) +'\\nNew lists of credits are ' + str(self.credits))"
   ]
  },
  {
   "cell_type": "code",
   "execution_count": 7,
   "metadata": {},
   "outputs": [],
   "source": [
    "stu1 = Student(18792,'Shin','Kang',[92,94,95,92,91,90], [4,4,3,4,4,4], 'QSS with Biology')\n",
    "stu2 = Student(38792,'Sammi','Park',[97,94,95,97,91,97], [4,4,3,4,4,4], 'QSS with Economy')"
   ]
  },
  {
   "cell_type": "code",
   "execution_count": 8,
   "metadata": {},
   "outputs": [
    {
     "name": "stdout",
     "output_type": "stream",
     "text": [
      "No, it is an invalid  ID number!\n",
      "True\n",
      "[92, 94, 95, 92, 91, 90]\n"
     ]
    }
   ],
   "source": [
    "print(stu2.id_check())\n",
    "print(stu1.__eq__())\n",
    "print(stu1.grades)"
   ]
  },
  {
   "cell_type": "code",
   "execution_count": 9,
   "metadata": {},
   "outputs": [
    {
     "name": "stdout",
     "output_type": "stream",
     "text": [
      "New lists of grades for Shin Kang are [92, 94, 95, 92, 91, 90, 93]\n",
      "New lists of credits are [4, 4, 3, 4, 4, 4, 3]\n"
     ]
    }
   ],
   "source": [
    "stu1.append_grades_credits(93, 3)"
   ]
  },
  {
   "cell_type": "markdown",
   "metadata": {},
   "source": [
    "\n",
    "***\n",
    "\n",
    "### Question 4\n",
    "\n",
    "Create a module in the class Student that computes the unweighted average of the student's grades."
   ]
  },
  {
   "cell_type": "code",
   "execution_count": 10,
   "metadata": {},
   "outputs": [],
   "source": [
    "# Your answer here\n",
    "class Student:    \n",
    "    # My constructor for the student class\n",
    "    def __init__(self, num, fnam, lnam, gra, cre, maj):\n",
    "        self.id_nubmer = num\n",
    "        self.first_name = fnam\n",
    "        self.last_name = lnam\n",
    "        self.grades = gra\n",
    "        self.credits = cre\n",
    "        self.major = maj\n",
    "\n",
    "    def unweighted_grades(self):\n",
    "        if len(self.grades) == len(self.credits):\n",
    "            gpa = [0 for i in range(len(self.grades))]\n",
    "            total = 0\n",
    "            for i in range(len(self.grades)):\n",
    "                if self.grades[i] >= 90:\n",
    "                    gpa[i] = 4.0\n",
    "                elif self.grades[i] >=80:\n",
    "                    gpa[i] = 3.0\n",
    "                elif self.grades[i] >=70:\n",
    "                    gpa[i] = 2.0\n",
    "                elif self.grades[i] >=60:\n",
    "                    gpa[i] = 1.0\n",
    "                else:\n",
    "                    gpa[i] = 0.0\n",
    "            \n",
    "                total += gpa[i] * self.credits[i]\n",
    "            \n",
    "            unwg = round(total/sum(stu1.credits),3)\n",
    "            return print('The unweighted average GPA for ' + self.first_name + ' ' + self.last_name + ' is ' + str(unwg))\n",
    "        else:\n",
    "            return print('The number of grades and credits do not match for ' + self.first_name + ' ' + self.last_name)"
   ]
  },
  {
   "cell_type": "code",
   "execution_count": 11,
   "metadata": {},
   "outputs": [
    {
     "name": "stdout",
     "output_type": "stream",
     "text": [
      "The unweighted average GPA for Shin Kang is 3.826\n"
     ]
    }
   ],
   "source": [
    "stu1 = Student(18792,'Shin','Kang',[92,94,95,92,89,90], [4,4,3,4,4,4], 'QSS with Biology')\n",
    "stu1.unweighted_grades()"
   ]
  },
  {
   "cell_type": "code",
   "execution_count": 12,
   "metadata": {},
   "outputs": [
    {
     "name": "stdout",
     "output_type": "stream",
     "text": [
      "The number of grades and credits do not match for Shin Kang\n"
     ]
    }
   ],
   "source": [
    "stu1 = Student(18792,'Shin','Kang',[94,95,92,89,90], [4,4,3,4,4,4], 'QSS with Biology')\n",
    "stu1.unweighted_grades()"
   ]
  },
  {
   "cell_type": "markdown",
   "metadata": {},
   "source": [
    "\n",
    "***\n",
    "\n",
    "### Question 5\n",
    "\n",
    "Create a module in the class Student that computes the weighted average of the student's grades, weighted by the credits."
   ]
  },
  {
   "cell_type": "code",
   "execution_count": 13,
   "metadata": {},
   "outputs": [],
   "source": [
    "# Your answer here\n",
    "class Student:    \n",
    "    # My constructor for the student class\n",
    "    def __init__(self, num, fnam, lnam, gr, cre, maj):\n",
    "        self.number = num\n",
    "        self.first_name = fnam\n",
    "        self.last_name = lnam\n",
    "        self.grades = gr\n",
    "        self.credits = cre\n",
    "        self.major = maj\n",
    "\n",
    "    def weighted_gpa(self):\n",
    "        if len(self.grades) == len(self.credits):\n",
    "            gpa = [0 for i in range(len(self.grades))]\n",
    "            total = 0\n",
    "            for i in range(len(self.grades)):\n",
    "                if self.grades[i] >= 93:\n",
    "                    gpa[i] = 4.0\n",
    "                elif self.grades[i] >=90:\n",
    "                    gpa[i] = 3.7\n",
    "                elif self.grades[i] >=87:\n",
    "                    gpa[i] = 3.3\n",
    "                elif self.grades[i] >=83:\n",
    "                    gpa[i] = 3.0\n",
    "                elif self.grades[i] >=80:\n",
    "                    gpa[i] = 2.7\n",
    "                elif self.grades[i] >=77:\n",
    "                    gpa[i] = 2.3\n",
    "                elif self.grades[i] >=73:\n",
    "                    gpa[i] = 2.0\n",
    "                elif self.grades[i] >=70:\n",
    "                    gpa[i] = 1.7\n",
    "                elif self.grades[i] >=67:\n",
    "                    gpa[i] = 1.3\n",
    "                elif self.grades[i] >=63:\n",
    "                    gpa[i] = 1.0\n",
    "                else:\n",
    "                    gpa[i] = 0.0\n",
    "                total += gpa[i] * self.credits[i]\n",
    "            wg = round(total / sum(stu1.credits),3)\n",
    "            return print('The weighted average GPA for ' + self.first_name + ' ' + self.last_name + ' is ' + str(wg))      \n",
    "        else:\n",
    "            return print('The number of grades and credits do not match for ' + self.first_name + ' ' + self.last_name)"
   ]
  },
  {
   "cell_type": "code",
   "execution_count": 14,
   "metadata": {},
   "outputs": [
    {
     "name": "stdout",
     "output_type": "stream",
     "text": [
      "The weighted average GPA for Shin Kang is 3.252\n"
     ]
    }
   ],
   "source": [
    "stu1 = Student(18792,'Shin','Kang',[60,94,95,92,95,95], [4,4,3,4,4,4], 'QSS with Biology')\n",
    "stu1.weighted_gpa()"
   ]
  },
  {
   "cell_type": "code",
   "execution_count": 15,
   "metadata": {},
   "outputs": [
    {
     "name": "stdout",
     "output_type": "stream",
     "text": [
      "The number of grades and credits do not match for Shin Kang\n"
     ]
    }
   ],
   "source": [
    "stu2 = Student(18792,'Shin','Kang',[94,95,92,95,95], [4,4,3,4,4,4], 'QSS with Biology')\n",
    "stu2.weighted_gpa()"
   ]
  },
  {
   "cell_type": "markdown",
   "metadata": {},
   "source": [
    "**That's all, folks!**"
   ]
  }
 ],
 "metadata": {
  "kernelspec": {
   "display_name": "Python 3",
   "language": "python",
   "name": "python3"
  },
  "language_info": {
   "codemirror_mode": {
    "name": "ipython",
    "version": 3
   },
   "file_extension": ".py",
   "mimetype": "text/x-python",
   "name": "python",
   "nbconvert_exporter": "python",
   "pygments_lexer": "ipython3",
   "version": "3.7.6"
  }
 },
 "nbformat": 4,
 "nbformat_minor": 4
}

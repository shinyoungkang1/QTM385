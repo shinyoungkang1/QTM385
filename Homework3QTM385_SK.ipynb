{
 "cells": [
  {
   "cell_type": "markdown",
   "metadata": {},
   "source": [
    "# QTM 385\n",
    "\n",
    "***\n",
    "\n",
    "## Homework 3\n",
    "\n",
    "Student: [2302860]"
   ]
  },
  {
   "cell_type": "markdown",
   "metadata": {},
   "source": [
    "In this homework, we will do some very elementary text analysis. The idea is to:\n",
    "\n",
    "1. Open a Gutenberg Project Book\n",
    "2. Count how many lines the Book has.\n",
    "3. Count how many words the Book has.\n",
    "\n",
    "The [Project Gutenberg](https://www.gutenberg.org) stores thousands of texts that are free for access, download, and read in your own device. In this homework, we will read the book \"Pride and Prejudice,\" by Jane Austen. In case you want to know more about the book, here is a [Wikipedia entry](https://en.wikipedia.org/wiki/Pride_and_Prejudice) describing it."
   ]
  },
  {
   "cell_type": "markdown",
   "metadata": {},
   "source": [
    "\n",
    "***\n",
    "\n",
    "### Question 1\n",
    "\n",
    "We start by opening the book. The `txt` version of the book is in the following link: https://www.gutenberg.org/files/1342/1342-0.txt\n",
    "\n",
    "To read the text from this URL we will use the function `urlopen` in the module `urllib.request`. Read this [Stackoverflow entry](https://stackoverflow.com/questions/47842388/read-text-files-from-website-with-python), and adapt the code in the first answer to _open the book_, _display the first line_, and then _`break`_."
   ]
  },
  {
   "cell_type": "code",
   "execution_count": 1,
   "metadata": {},
   "outputs": [
    {
     "name": "stdout",
     "output_type": "stream",
     "text": [
      "The first line reads as \n",
      "b'\\xef\\xbb\\xbfThe Project Gutenberg eBook of Pride and Prejudice, by Jane Austen\\r\\n'\n"
     ]
    }
   ],
   "source": [
    "# Your answer here\n",
    "import urllib.request\n",
    "\n",
    "web  = urllib.request.urlopen('https://www.gutenberg.org/files/1342/1342-0.txt')\n",
    "\n",
    "i = 0\n",
    "\n",
    "for line in web:\n",
    "    \n",
    "    i += 1 #Indexing line\n",
    "    \n",
    "    print('The first line reads as \\n' + str(line))\n",
    "    \n",
    "    if i == 1:\n",
    "        break"
   ]
  },
  {
   "cell_type": "markdown",
   "metadata": {},
   "source": [
    "\n",
    "***\n",
    "\n",
    "### Question 2\n",
    "\n",
    "Note that at the beginning and the end of the first line, we have some strange characters (e. g. `\\xef\\xbb\\xbf`). This happens because of the [character encoding](https://en.wikipedia.org/wiki/Character_encoding). To fix this, we need to use `decode('utf-8')`. For instance, check out the following code:"
   ]
  },
  {
   "cell_type": "code",
   "execution_count": 2,
   "metadata": {},
   "outputs": [
    {
     "name": "stdout",
     "output_type": "stream",
     "text": [
      "The first line reads as \n",
      "b'\\xef\\xbb\\xbfThe Project Gutenberg eBook of Pride and Prejudice, by Jane Austen\\r\\n'\n",
      "After decoding the first line \n",
      "﻿The Project Gutenberg eBook of Pride and Prejudice, by Jane Austen\r\n",
      "\n"
     ]
    }
   ],
   "source": [
    "# Priting the First line\n",
    "print('The first line reads as \\n' + str(line))\n",
    "\n",
    "# Decoding the first line\n",
    "print('After decoding the first line \\n' + line.decode('utf-8'))"
   ]
  },
  {
   "cell_type": "markdown",
   "metadata": {},
   "source": [
    "To fix this problem, we will create a list with all the lines in the book, decoded to use the UTF-8 encoding. Your job, step by step, is to:\n",
    "\n",
    "1. Reopen the book\n",
    "2. Create an empty list\n",
    "3. Use an for-loop to go over each line of the text\n",
    "4. Inside the for-loop, change the encoding of line, and store in the list (hint: you could use `append()` to do this)\n",
    "\n",
    "In the end, display the first line."
   ]
  },
  {
   "cell_type": "code",
   "execution_count": 3,
   "metadata": {},
   "outputs": [
    {
     "name": "stdout",
     "output_type": "stream",
     "text": [
      "﻿The Project Gutenberg eBook of Pride and Prejudice, by Jane Austen\r\n",
      "\n"
     ]
    }
   ],
   "source": [
    "# Your answer here\n",
    "web = urllib.request.urlopen('https://www.gutenberg.org/files/1342/1342-0.txt')\n",
    "\n",
    "# Create an empty list\n",
    "list = []\n",
    "\n",
    "\n",
    "for line in web:\n",
    "    list.append(line.decode('utf-8'))\n",
    "    \n",
    "line_number = 1\n",
    "i = 1\n",
    "for line in list:\n",
    "    if i == line_number:\n",
    "        print(line)\n",
    "        break\n",
    "    i += 1 #indexing each line for line_number"
   ]
  },
  {
   "cell_type": "markdown",
   "metadata": {},
   "source": [
    "\n",
    "***\n",
    "\n",
    "### Question 3\n",
    "\n",
    "How many lines the book has?"
   ]
  },
  {
   "cell_type": "code",
   "execution_count": 4,
   "metadata": {},
   "outputs": [
    {
     "name": "stdout",
     "output_type": "stream",
     "text": [
      "There are total of 14580 lines\n"
     ]
    }
   ],
   "source": [
    "# Your answer here\n",
    "web  = urllib.request.urlopen('https://www.gutenberg.org/files/1342/1342-0.txt')\n",
    "\n",
    "line_count = 0\n",
    "for line in web:\n",
    "    line_count += 1\n",
    "    \n",
    "print('There are total of ' + str(line_count) + ' lines')"
   ]
  },
  {
   "cell_type": "markdown",
   "metadata": {},
   "source": [
    "\n",
    "***\n",
    "\n",
    "### Question 4\n",
    "\n",
    "Now, to count how many words there is in the book, we need a function that splits a text line into its words. For example, to split the first line:"
   ]
  },
  {
   "cell_type": "code",
   "execution_count": 5,
   "metadata": {},
   "outputs": [
    {
     "name": "stdout",
     "output_type": "stream",
     "text": [
      "['This', 'is', 'my', 'first', 'line']\n"
     ]
    }
   ],
   "source": [
    "# New decoded line:\n",
    "my_first_line = \"This is my first line\"\n",
    "\n",
    "# My splitted line\n",
    "print(my_first_line.split())"
   ]
  },
  {
   "cell_type": "markdown",
   "metadata": {},
   "source": [
    "Split the 385th line of the text, and show how many words it has (hint: python starts counting at zero): "
   ]
  },
  {
   "cell_type": "code",
   "execution_count": 6,
   "metadata": {},
   "outputs": [
    {
     "name": "stdout",
     "output_type": "stream",
     "text": [
      "There are total of 13 lines in 385th line of the text\n"
     ]
    }
   ],
   "source": [
    "# Your answer here\n",
    "web = urllib.request.urlopen('https://www.gutenberg.org/files/1342/1342-0.txt')\n",
    "\n",
    "i = 0 \n",
    "\n",
    "for line in web:\n",
    "    z = line.decode('utf-8')\n",
    "    i += 1 #indexing each line\n",
    "    if i == 385:          #For this code 385th line is not when i is 386\n",
    "        x = len(z.split())\n",
    "        \n",
    "print('There are total of ' + str(x) + ' lines in 385th line of the text')"
   ]
  },
  {
   "cell_type": "markdown",
   "metadata": {},
   "source": [
    "### To prove 385th line is not when i is 386"
   ]
  },
  {
   "cell_type": "code",
   "execution_count": 7,
   "metadata": {},
   "outputs": [
    {
     "name": "stdout",
     "output_type": "stream",
     "text": [
      "When i is 1 the text reads as the 1 th line as \n",
      "﻿The Project Gutenberg eBook of Pride and Prejudice, by Jane Austen\r\n",
      "\n"
     ]
    }
   ],
   "source": [
    "web  = urllib.request.urlopen('https://www.gutenberg.org/files/1342/1342-0.txt')\n",
    "\n",
    "i = 0\n",
    "line_number = 1\n",
    "\n",
    "for line in web:\n",
    "    \n",
    "    z = line.decode('utf-8')\n",
    "    \n",
    "    i += 1\n",
    "    \n",
    "    if i == line_number:\n",
    "        print('When i is ' + str(i) + ' the text reads as the ' + str(i) + ' th line as \\n' + str(z))\n",
    "        break"
   ]
  },
  {
   "cell_type": "markdown",
   "metadata": {},
   "source": [
    "When i is 1, \"The Project Gutenberg eBook of Pride and Prejudice, by Jane Austen\" is read.\n",
    "\n",
    "When i is 2, nothing is read.\n",
    "\n",
    "Thus matching with the book in the url, the 385th number should be when i is 385 not when i is 386."
   ]
  },
  {
   "cell_type": "markdown",
   "metadata": {},
   "source": [
    "\n",
    "***\n",
    "\n",
    "### Question 5\n",
    "\n",
    "Now, count how many words the book has."
   ]
  },
  {
   "cell_type": "code",
   "execution_count": 8,
   "metadata": {},
   "outputs": [
    {
     "name": "stdout",
     "output_type": "stream",
     "text": [
      "There are total of 124743 words in the book\n"
     ]
    }
   ],
   "source": [
    "# Your answer here\n",
    "web  = urllib.request.urlopen('https://www.gutenberg.org/files/1342/1342-0.txt')\n",
    "\n",
    "word_count = 0\n",
    "\n",
    "for line in web:\n",
    "    word_count += len(line.split())\n",
    "    \n",
    "print('There are total of ' + str(word_count) + ' words in the book')"
   ]
  },
  {
   "cell_type": "markdown",
   "metadata": {},
   "source": [
    "**That's all, folks!**"
   ]
  }
 ],
 "metadata": {
  "kernelspec": {
   "display_name": "Python 3",
   "language": "python",
   "name": "python3"
  },
  "language_info": {
   "codemirror_mode": {
    "name": "ipython",
    "version": 3
   },
   "file_extension": ".py",
   "mimetype": "text/x-python",
   "name": "python",
   "nbconvert_exporter": "python",
   "pygments_lexer": "ipython3",
   "version": "3.7.6"
  }
 },
 "nbformat": 4,
 "nbformat_minor": 4
}
